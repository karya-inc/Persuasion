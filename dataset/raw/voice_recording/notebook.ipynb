{
 "cells": [
  {
   "cell_type": "code",
   "execution_count": 14,
   "metadata": {},
   "outputs": [
    {
     "data": {
      "text/plain": [
       "['Workflow',\n",
       " 'Consent_text',\n",
       " 'Consent_comprehension_check',\n",
       " 'Baseline survey',\n",
       " 'Statedistrict question options ',\n",
       " 'Endline survey',\n",
       " 'Voice_recording_subjective_eval',\n",
       " 'Task type Voice recording (Expl',\n",
       " 'Task type Voice recording (Late',\n",
       " 'Task type Voice recording (Cont',\n",
       " 'Dummy data frame']"
      ]
     },
     "execution_count": 14,
     "metadata": {},
     "output_type": "execute_result"
    }
   ],
   "source": [
    "import pandas as pd\n",
    "import json\n",
    "excelfile = pd.ExcelFile('Copy of Clean_data_formatting_sheet.xlsx')\n",
    "excelfile.sheet_names"
   ]
  },
  {
   "cell_type": "code",
   "execution_count": 11,
   "metadata": {},
   "outputs": [],
   "source": [
    "\n",
    "def create_ds(split_sentences):\n",
    "    dataset = []\n",
    "    # for each row, create a JSON of format: {\"data\": {\"sentence\": <sentence from row>}, \"files\": {}}\n",
    "    for sentence in split_sentences:\n",
    "        dataset.append({\"data\": {\"sentence\": sentence}, \"files\": {}})\n",
    "    return dataset"
   ]
  },
  {
   "cell_type": "code",
   "execution_count": 17,
   "metadata": {},
   "outputs": [],
   "source": [
    "df = excelfile.parse('Task type Voice recording (Expl')\n",
    "split_sentences = df['Split sentences']\n",
    "# remove nan values\n",
    "split_sentences = split_sentences.dropna()\n",
    "# remove \\n from each sentence\n",
    "split_sentences = split_sentences.str.replace('\\n', ' ')\n",
    "split_sentences.to_csv('explicit/split_sentences.csv', index=False)\n",
    "dataset = create_ds(split_sentences)\n",
    "# convert dataset to json and write to a\n",
    "with open('../../formatted/voice_recording/explicit/dataset.json', 'w') as f:\n",
    "    json.dump(dataset, f, indent=4, ensure_ascii=False)"
   ]
  },
  {
   "cell_type": "code",
   "execution_count": null,
   "metadata": {},
   "outputs": [],
   "source": []
  },
  {
   "cell_type": "code",
   "execution_count": null,
   "metadata": {},
   "outputs": [],
   "source": []
  },
  {
   "cell_type": "code",
   "execution_count": 24,
   "metadata": {},
   "outputs": [],
   "source": []
  },
  {
   "cell_type": "code",
   "execution_count": null,
   "metadata": {},
   "outputs": [],
   "source": []
  }
 ],
 "metadata": {
  "kernelspec": {
   "display_name": "opendata",
   "language": "python",
   "name": "python3"
  },
  "language_info": {
   "codemirror_mode": {
    "name": "ipython",
    "version": 3
   },
   "file_extension": ".py",
   "mimetype": "text/x-python",
   "name": "python",
   "nbconvert_exporter": "python",
   "pygments_lexer": "ipython3",
   "version": "3.13.1"
  }
 },
 "nbformat": 4,
 "nbformat_minor": 2
}
